{
  "nbformat": 4,
  "nbformat_minor": 0,
  "metadata": {
    "colab": {
      "provenance": [],
      "authorship_tag": "ABX9TyP7MB7Rb5jX/3oL5CYQ2887",
      "include_colab_link": true
    },
    "kernelspec": {
      "name": "python3",
      "display_name": "Python 3"
    },
    "language_info": {
      "name": "python"
    }
  },
  "cells": [
    {
      "cell_type": "markdown",
      "metadata": {
        "id": "view-in-github",
        "colab_type": "text"
      },
      "source": [
        "<a href=\"https://colab.research.google.com/github/KibetYvonne/ML-Tasks/blob/main/Linear_regression_py.ipynb\" target=\"_parent\"><img src=\"https://colab.research.google.com/assets/colab-badge.svg\" alt=\"Open In Colab\"/></a>"
      ]
    },
    {
      "cell_type": "code",
      "execution_count": null,
      "metadata": {
        "colab": {
          "base_uri": "https://localhost:8080/"
        },
        "id": "4hD2UkzIVqQ5",
        "outputId": "9d1f4b5a-04a9-429e-cfb6-94969317e7fc"
      },
      "outputs": [
        {
          "output_type": "stream",
          "name": "stdout",
          "text": [
            "Predict sales for 2019: 2312.80701754386\n"
          ]
        }
      ],
      "source": [
        "import numpy as np\n",
        "from sklearn.linear_model import LinearRegression\n",
        "\n",
        "#sample data\n",
        "years = np.array([2014,2015,2016,2017,2018])\n",
        "expenditure = np.array([90,120,150,100,130])\n",
        "sales = np.array([1000,1300,1800,1200,1380])\n",
        "\n",
        "#Reshape the data\n",
        "years = years.reshape(-1,1)\n",
        "expenditure = expenditure.reshape(-1,1)\n",
        "\n",
        "#Create a linear regression model\n",
        "model = LinearRegression()\n",
        "\n",
        "#Fit the model\n",
        "model.fit(expenditure,sales)\n",
        "\n",
        "#Make a prediction for 2019\n",
        "prediction_2019 = model.predict([[200]])\n",
        "\n",
        "print(\"Predict sales for 2019:\",prediction_2019[0])\n"
      ]
    },
    {
      "cell_type": "code",
      "source": [
        "#qn2\n",
        "import pandas as pd\n",
        "import statsmodels.api as sm\n",
        "\n",
        "# Step 1: Create the dataset\n",
        "data = pd.DataFrame({\n",
        "    'Length': [3, 4, 5, 6, 7],\n",
        "    'Made': [84, 88, 61, 61, 44],\n",
        "    'Missed': [17, 31, 47, 64, 90]\n",
        "})\n",
        "\n",
        "# Step 2: Compute total attempts and proportion made\n",
        "data['Total'] = data['Made'] + data['Missed']\n",
        "data['Proportion'] = data['Made'] / data['Total']\n",
        "\n",
        "# Step 3: Define the response as a two-column array for logistic regression\n",
        "# (number of successes, number of failures)\n",
        "response = data[['Made', 'Missed']]\n",
        "\n",
        "# Step 4: Fit the logistic regression model\n",
        "X = sm.add_constant(data['Length'])  # add intercept\n",
        "model = sm.GLM(response, X, family=sm.families.Binomial())\n",
        "result = model.fit()\n",
        "\n",
        "print(result.summary())\n"
      ],
      "metadata": {
        "colab": {
          "base_uri": "https://localhost:8080/"
        },
        "id": "OJSbQm55QZ9Z",
        "outputId": "9831b022-5dbe-4196-d351-40596e31fb4e",
        "collapsed": true
      },
      "execution_count": null,
      "outputs": [
        {
          "output_type": "stream",
          "name": "stdout",
          "text": [
            "                 Generalized Linear Model Regression Results                  \n",
            "==============================================================================\n",
            "Dep. Variable:     ['Made', 'Missed']   No. Observations:                    5\n",
            "Model:                            GLM   Df Residuals:                        3\n",
            "Model Family:                Binomial   Df Model:                            1\n",
            "Link Function:                  Logit   Scale:                          1.0000\n",
            "Method:                          IRLS   Log-Likelihood:                -13.088\n",
            "Date:                Fri, 23 May 2025   Deviance:                       1.0692\n",
            "Time:                        10:28:56   Pearson chi2:                     1.08\n",
            "No. Iterations:                     4   Pseudo R-squ. (CS):              1.000\n",
            "Covariance Type:            nonrobust                                         \n",
            "==============================================================================\n",
            "                 coef    std err          z      P>|z|      [0.025      0.975]\n",
            "------------------------------------------------------------------------------\n",
            "const          3.2568      0.369      8.828      0.000       2.534       3.980\n",
            "Length        -0.5661      0.067     -8.391      0.000      -0.698      -0.434\n",
            "==============================================================================\n"
          ]
        }
      ]
    },
    {
      "cell_type": "code",
      "source": [
        "#qn1\n",
        "import pandas as pd\n",
        "from sklearn.linear_model import LinearRegression\n",
        "\n",
        "# Load the data\n",
        "data = {\n",
        "    'Oil': [275.30, 363.80, 164.30, 40.80, 94.30, 230.90, 366.70, 300.60, 237.80, 121.40, 31.40, 203.50, 441.10, 323.00, 52.50],\n",
        "    'Temp': [40, 27, 40, 73, 64, 34, 9, 8, 23, 63, 65, 41, 21, 38, 58],\n",
        "    'Insulation': [3, 3, 10, 6, 6, 6, 6, 10, 10, 3, 10, 6, 3, 3, 10]\n",
        "}\n",
        "df = pd.DataFrame(data)\n",
        "\n",
        "# Prepare features (X) and target (y)\n",
        "X = df[['Temp', 'Insulation']]\n",
        "y = df['Oil']\n",
        "\n",
        "# Train the linear regression model\n",
        "model = LinearRegression()\n",
        "model.fit(X, y)\n",
        "\n",
        "# Predict for Temp=15°F, Insulation=10 inches\n",
        "predicted_oil = model.predict([[15, 10]])[0]\n",
        "\n",
        "# Display results\n",
        "print(f\"Predicted heating oil usage: {predicted_oil:.2f} gallons\\n\")"
      ],
      "metadata": {
        "id": "jk226KKBT6O6",
        "outputId": "28199726-4bf7-4a48-e2bd-d25a64e4e22f",
        "colab": {
          "base_uri": "https://localhost:8080/"
        },
        "collapsed": true
      },
      "execution_count": null,
      "outputs": [
        {
          "output_type": "stream",
          "name": "stdout",
          "text": [
            "Predicted heating oil usage: 280.48 gallons\n",
            "\n"
          ]
        },
        {
          "output_type": "stream",
          "name": "stderr",
          "text": [
            "/usr/local/lib/python3.11/dist-packages/sklearn/utils/validation.py:2739: UserWarning: X does not have valid feature names, but LinearRegression was fitted with feature names\n",
            "  warnings.warn(\n"
          ]
        }
      ]
    },
    {
      "cell_type": "code",
      "source": [
        "#Linear regression task\n",
        "import numpy as np\n",
        "\n",
        "# Generate random data\n",
        "np.random.seed(42)\n",
        "x = np.random.rand(200, 1) * 10  # shape (200, 1)\n",
        "true_slope = 2.5\n",
        "true_bias = 5\n",
        "noise = np.random.randn(200, 1)\n",
        "y = true_slope * x + true_bias + noise\n",
        "\n",
        "# Initialize parameters\n",
        "slope = 0.0\n",
        "bias = 0.0\n",
        "learning_rate = 0.01\n",
        "epochs = 1000\n",
        "\n",
        "# Arrays to store values\n",
        "mse_list = []\n",
        "slope_list = []\n",
        "bias_list = []\n",
        "\n",
        "# Gradient descent loop\n",
        "for _ in range(epochs):\n",
        "    y_pred = slope * x + bias\n",
        "    error = y_pred - y\n",
        "    mse = np.mean(error ** 2)\n",
        "\n",
        "    # Gradients\n",
        "    slope_grad = 2 * np.mean(error * x)\n",
        "    bias_grad = 2 * np.mean(error)\n",
        "\n",
        "    # Update parameters using gradient descent\n",
        "    slope -= learning_rate * slope_grad\n",
        "    bias -= learning_rate * bias_grad\n",
        "\n",
        "    # Store values\n",
        "    mse_list.append(mse)\n",
        "    slope_list.append(slope)\n",
        "    bias_list.append(bias)\n",
        "\n",
        "# Find the minimum MSE and corresponding parameters\n",
        "min_index = np.argmin(mse_list)\n",
        "optimal_slope = slope_list[min_index]\n",
        "optimal_bias = bias_list[min_index]\n",
        "\n",
        "print(f\"Optimal Slope: {optimal_slope}\")\n",
        "print(f\"Optimal Bias: {optimal_bias}\")"
      ],
      "metadata": {
        "colab": {
          "base_uri": "https://localhost:8080/"
        },
        "id": "_71B44_0oYx-",
        "outputId": "cca5bfc4-93a4-4332-8c23-6731fc5fa7cd"
      },
      "execution_count": null,
      "outputs": [
        {
          "output_type": "stream",
          "name": "stdout",
          "text": [
            "Optimal Slope: 2.4957446703538326\n",
            "Optimal Bias: 5.081854283970578\n"
          ]
        }
      ]
    }
  ]
}